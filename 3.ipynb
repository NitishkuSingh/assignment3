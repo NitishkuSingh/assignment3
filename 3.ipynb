{
 "cells": [
  {
   "cell_type": "markdown",
   "id": "321fd7f6-0691-4b11-a645-4d74d0b80719",
   "metadata": {},
   "source": [
    "Question - 1"
   ]
  },
  {
   "cell_type": "code",
   "execution_count": 2,
   "id": "f98c92f8-8ee3-45fa-b38f-ab377b7ece9c",
   "metadata": {},
   "outputs": [
    {
     "name": "stdout",
     "output_type": "stream",
     "text": [
      "\n",
      "('Virat Kohli', 24936)\n",
      "('Jack Kallis', 25534)\n",
      "('Ricky Ponting', 27483)\n",
      "('Sachin Tendulkar', 34357)\n"
     ]
    }
   ],
   "source": [
    "list_of_tuples = [('Sachin Tendulkar', 34357), ('Ricky Ponting', 27483), ('Jack Kallis', 25534), ('Virat Kohli', 24936)]\n",
    "sorted_list = sorted(list_of_tuples, key=lambda x: x[1])\n",
    "print()\n",
    "for item in sorted_list:\n",
    "    print(item)"
   ]
  },
  {
   "cell_type": "markdown",
   "id": "29c46470-c569-4414-b10c-e39651929f09",
   "metadata": {},
   "source": [
    "Question 2"
   ]
  },
  {
   "cell_type": "code",
   "execution_count": 16,
   "id": "5a2e8f44-744a-4d40-b00c-60f43d354f43",
   "metadata": {},
   "outputs": [
    {
     "name": "stdout",
     "output_type": "stream",
     "text": [
      "Squares of numbers in the given list:\n",
      "[1, 4, 9, 16, 25, 36, 49, 64, 81, 100]\n"
     ]
    }
   ],
   "source": [
    "numbers = [1, 2, 3, 4, 5, 6, 7, 8, 9, 10]\n",
    "squares = list(map(lambda x: x**2, numbers))\n",
    "print(\"Squares of numbers in the given list:\")\n",
    "print(squares)"
   ]
  },
  {
   "cell_type": "code",
   "execution_count": 15,
   "id": "e82ebe4e-8a0b-48b1-8405-6627c3d21695",
   "metadata": {},
   "outputs": [
    {
     "name": "stdout",
     "output_type": "stream",
     "text": [
      "[1, 4, 9, 16, 25, 36, 49, 64, 81, 100]\n"
     ]
    }
   ],
   "source": [
    "numbers = [1, 2, 3, 4, 5, 6, 7, 8, 9, 10]\n",
    "a=[]\n",
    "for i in numbers:\n",
    "    a.append(i**2)\n",
    "print(a)"
   ]
  },
  {
   "cell_type": "markdown",
   "id": "4aeae5a6-2589-4c9a-a5b5-34889bd2b675",
   "metadata": {},
   "source": [
    "Question - 3"
   ]
  },
  {
   "cell_type": "code",
   "execution_count": 17,
   "id": "19d9ce7f-a856-4fd2-b546-6200a773c97b",
   "metadata": {},
   "outputs": [
    {
     "name": "stdout",
     "output_type": "stream",
     "text": [
      "Tuple of strings converted from the given list of integers:\n",
      "('1', '2', '3', '4', '5', '6', '7', '8', '9', '10')\n"
     ]
    }
   ],
   "source": [
    "integers_list = [1, 2, 3, 4, 5, 6, 7, 8, 9, 10]\n",
    "tuple_of_strings = tuple(map(lambda x: str(x), integers_list))\n",
    "print(\"Tuple of strings converted from the given list of integers:\")\n",
    "print(tuple_of_strings)"
   ]
  },
  {
   "cell_type": "markdown",
   "id": "b488dbce-1229-4ad2-8772-4a53746552aa",
   "metadata": {},
   "source": [
    "Question - 4"
   ]
  },
  {
   "cell_type": "code",
   "execution_count": 18,
   "id": "47118b38-81ea-40dd-92f8-99492653e690",
   "metadata": {},
   "outputs": [
    {
     "name": "stdout",
     "output_type": "stream",
     "text": [
      "Product of numbers from 1 to 25:\n",
      "15511210043330985984000000\n"
     ]
    }
   ],
   "source": [
    "from functools import reduce\n",
    "import operator\n",
    "numbers_list = list(range(1, 26))\n",
    "product = reduce(operator.mul, numbers_list)\n",
    "print(\"Product of numbers from 1 to 25:\")\n",
    "print(product)"
   ]
  },
  {
   "cell_type": "markdown",
   "id": "5072892f-1ed2-4ac4-a11b-43abc6f96c0e",
   "metadata": {},
   "source": [
    "Question - 5"
   ]
  },
  {
   "cell_type": "code",
   "execution_count": 19,
   "id": "1f715377-e5d6-495e-84d8-5a61334a4607",
   "metadata": {},
   "outputs": [
    {
     "name": "stdout",
     "output_type": "stream",
     "text": [
      "Numbers divisible by both 2 and 3:\n",
      "[6, 60, 90, 120]\n"
     ]
    }
   ],
   "source": [
    "numbers = [2, 3, 6, 9, 27, 60, 90, 120, 55, 46]\n",
    "filtered_numbers = filter(lambda x: x % 2 == 0 and x % 3 == 0, numbers)\n",
    "filtered_numbers_list = list(filtered_numbers)\n",
    "print(\"Numbers divisible by both 2 and 3:\")\n",
    "print(filtered_numbers_list)"
   ]
  },
  {
   "cell_type": "markdown",
   "id": "514918e7-c8dc-4798-89c7-98a9025b7fdf",
   "metadata": {},
   "source": [
    "Question - 6"
   ]
  },
  {
   "cell_type": "code",
   "execution_count": null,
   "id": "2a13320b-d981-43da-99c4-0e24494232d9",
   "metadata": {},
   "outputs": [],
   "source": []
  }
 ],
 "metadata": {
  "kernelspec": {
   "display_name": "Python 3 (ipykernel)",
   "language": "python",
   "name": "python3"
  },
  "language_info": {
   "codemirror_mode": {
    "name": "ipython",
    "version": 3
   },
   "file_extension": ".py",
   "mimetype": "text/x-python",
   "name": "python",
   "nbconvert_exporter": "python",
   "pygments_lexer": "ipython3",
   "version": "3.10.8"
  }
 },
 "nbformat": 4,
 "nbformat_minor": 5
}
